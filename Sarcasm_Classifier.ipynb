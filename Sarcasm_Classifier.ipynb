{
  "nbformat": 4,
  "nbformat_minor": 0,
  "metadata": {
    "colab": {
      "provenance": [],
      "authorship_tag": "ABX9TyO9MV9rr6cmOtjOlggac274",
      "include_colab_link": true
    },
    "kernelspec": {
      "name": "python3",
      "display_name": "Python 3"
    },
    "language_info": {
      "name": "python"
    }
  },
  "cells": [
    {
      "cell_type": "markdown",
      "metadata": {
        "id": "view-in-github",
        "colab_type": "text"
      },
      "source": [
        "<a href=\"https://colab.research.google.com/github/MarynaMarkova/TensorFlow_Coursera/blob/main/Sarcasm_Classifier.ipynb\" target=\"_parent\"><img src=\"https://colab.research.google.com/assets/colab-badge.svg\" alt=\"Open In Colab\"/></a>"
      ]
    },
    {
      "cell_type": "markdown",
      "source": [
        "# Training a binary classifier with the Sarcasm Dataset"
      ],
      "metadata": {
        "id": "NofN37DCLI9T"
      }
    },
    {
      "cell_type": "markdown",
      "source": [
        "Download the dataset"
      ],
      "metadata": {
        "id": "05wryrbILMIc"
      }
    },
    {
      "cell_type": "code",
      "source": [
        "# Download the dataset\n",
        "!wget https://storage.googleapis.com/tensorflow-1-public/course3/sarcasm.json"
      ],
      "metadata": {
        "colab": {
          "base_uri": "https://localhost:8080/"
        },
        "id": "mVgVca41LRW8",
        "outputId": "9c41603d-492a-4bc9-c7d1-5e286704ec1c"
      },
      "execution_count": 1,
      "outputs": [
        {
          "output_type": "stream",
          "name": "stdout",
          "text": [
            "--2023-07-20 21:21:11--  https://storage.googleapis.com/tensorflow-1-public/course3/sarcasm.json\n",
            "Resolving storage.googleapis.com (storage.googleapis.com)... 142.251.111.128, 142.251.16.128, 142.251.163.128, ...\n",
            "Connecting to storage.googleapis.com (storage.googleapis.com)|142.251.111.128|:443... connected.\n",
            "HTTP request sent, awaiting response... 200 OK\n",
            "Length: 5643545 (5.4M) [application/json]\n",
            "Saving to: ‘sarcasm.json’\n",
            "\n",
            "\rsarcasm.json          0%[                    ]       0  --.-KB/s               \rsarcasm.json        100%[===================>]   5.38M  --.-KB/s    in 0.06s   \n",
            "\n",
            "2023-07-20 21:21:11 (95.6 MB/s) - ‘sarcasm.json’ saved [5643545/5643545]\n",
            "\n"
          ]
        }
      ]
    },
    {
      "cell_type": "code",
      "source": [
        "import json\n",
        "\n",
        "# Load the JSON file\n",
        "with open(\"./sarcasm.json\", 'r') as f:\n",
        "    datastore = json.load(f)\n",
        "\n",
        "# Initialize the lists\n",
        "sentences = []\n",
        "labels = []\n",
        "\n",
        "# Collect sentences and labels into the lists\n",
        "for item in datastore:\n",
        "    sentences.append(item['headline'])\n",
        "    labels.append(item['is_sarcastic'])"
      ],
      "metadata": {
        "id": "b7FG8ljuLRls"
      },
      "execution_count": 2,
      "outputs": []
    },
    {
      "cell_type": "markdown",
      "source": [
        "Hyperparameters"
      ],
      "metadata": {
        "id": "0-jFA0-cLjxq"
      }
    },
    {
      "cell_type": "code",
      "source": [
        "# Number of examples to use for training\n",
        "training_size = 20000\n",
        "\n",
        "# Vocabulary size of the tokenizer\n",
        "vocab_size = 10000\n",
        "\n",
        "# Maximum length of the padded sequences\n",
        "max_length = 32\n",
        "\n",
        "# Output dimensions of the Embedding layer\n",
        "embedding_dim = 16"
      ],
      "metadata": {
        "id": "fk9nYx9eLRna"
      },
      "execution_count": 3,
      "outputs": []
    },
    {
      "cell_type": "markdown",
      "source": [
        "Split the dataset"
      ],
      "metadata": {
        "id": "BvUO8K_hLqUo"
      }
    },
    {
      "cell_type": "code",
      "source": [
        "# Split the sentences\n",
        "training_sentences = sentences[0:training_size]\n",
        "testing_sentences = sentences[training_size:]\n",
        "\n",
        "# Split the labels\n",
        "training_labels = labels[0:training_size]\n",
        "testing_labels = labels[training_size:]"
      ],
      "metadata": {
        "id": "vFN0GhMCLRr5"
      },
      "execution_count": 4,
      "outputs": []
    },
    {
      "cell_type": "markdown",
      "source": [
        "Preprocessing the train and test sets"
      ],
      "metadata": {
        "id": "DT3eiWysLzRq"
      }
    },
    {
      "cell_type": "code",
      "source": [
        "import numpy as np\n",
        "from tensorflow.keras.preprocessing.text import Tokenizer\n",
        "from tensorflow.keras.preprocessing.sequence import pad_sequences\n",
        "\n",
        "# Parameters for padding and OOV tokens\n",
        "trunc_type='post'\n",
        "padding_type='post'\n",
        "oov_tok = \"<OOV>\"\n",
        "\n",
        "# Initialize the Tokenizer class\n",
        "tokenizer = Tokenizer(num_words=vocab_size, oov_token=oov_tok)\n",
        "\n",
        "# Generate the word index dictionary\n",
        "tokenizer.fit_on_texts(training_sentences)\n",
        "word_index = tokenizer.word_index\n",
        "\n",
        "# Generate and pad the training sequences\n",
        "training_sequences = tokenizer.texts_to_sequences(training_sentences)\n",
        "training_padded = pad_sequences(training_sequences, maxlen=max_length, padding=padding_type, truncating=trunc_type)\n",
        "\n",
        "# Generate and pad the testing sequences\n",
        "testing_sequences = tokenizer.texts_to_sequences(testing_sentences)\n",
        "testing_padded = pad_sequences(testing_sequences, maxlen=max_length, padding=padding_type, truncating=trunc_type)\n",
        "\n",
        "# Convert the labels lists into numpy arrays\n",
        "training_labels = np.array(training_labels)\n",
        "testing_labels = np.array(testing_labels)"
      ],
      "metadata": {
        "id": "8Sk0goI8LRt4"
      },
      "execution_count": 5,
      "outputs": []
    },
    {
      "cell_type": "markdown",
      "source": [
        "Build and Compile the Model"
      ],
      "metadata": {
        "id": "LId0luHmMBz5"
      }
    },
    {
      "cell_type": "code",
      "source": [
        "import tensorflow as tf\n",
        "\n",
        "# Initialize a GlobalAveragePooling1D (GAP1D) layer\n",
        "gap1d_layer = tf.keras.layers.GlobalAveragePooling1D()\n",
        "\n",
        "# Define sample array\n",
        "sample_array = np.array([[[10,2],[1,3],[1,1]]])\n",
        "\n",
        "# Print shape and contents of sample array\n",
        "print(f'shape of sample_array = {sample_array.shape}')\n",
        "print(f'sample array: {sample_array}')\n",
        "\n",
        "# Pass the sample array to the GAP1D layer\n",
        "output = gap1d_layer(sample_array)\n",
        "\n",
        "# Print shape and contents of the GAP1D output array\n",
        "print(f'output shape of gap1d_layer: {output.shape}')\n",
        "print(f'output array of gap1d_layer: {output.numpy()}')"
      ],
      "metadata": {
        "colab": {
          "base_uri": "https://localhost:8080/"
        },
        "id": "fmgRZIMqLRxq",
        "outputId": "6812af4e-cc54-4f39-a7f9-8e86d4bfca17"
      },
      "execution_count": 6,
      "outputs": [
        {
          "output_type": "stream",
          "name": "stdout",
          "text": [
            "shape of sample_array = (1, 3, 2)\n",
            "sample array: [[[10  2]\n",
            "  [ 1  3]\n",
            "  [ 1  1]]]\n",
            "output shape of gap1d_layer: (1, 2)\n",
            "output array of gap1d_layer: [[4 2]]\n"
          ]
        }
      ]
    },
    {
      "cell_type": "code",
      "source": [
        "# Build the model\n",
        "model = tf.keras.Sequential([\n",
        "    tf.keras.layers.Embedding(vocab_size, embedding_dim, input_length=max_length),\n",
        "    tf.keras.layers.GlobalAveragePooling1D(),\n",
        "    tf.keras.layers.Dense(24, activation='relu'),\n",
        "    tf.keras.layers.Dense(1, activation='sigmoid')\n",
        "])\n",
        "\n",
        "# Print the model summary\n",
        "model.summary()"
      ],
      "metadata": {
        "colab": {
          "base_uri": "https://localhost:8080/"
        },
        "id": "slX70yDLLRze",
        "outputId": "955288e2-50fb-4ba1-f87d-7570090da72a"
      },
      "execution_count": 7,
      "outputs": [
        {
          "output_type": "stream",
          "name": "stdout",
          "text": [
            "Model: \"sequential\"\n",
            "_________________________________________________________________\n",
            " Layer (type)                Output Shape              Param #   \n",
            "=================================================================\n",
            " embedding (Embedding)       (None, 32, 16)            160000    \n",
            "                                                                 \n",
            " global_average_pooling1d_1   (None, 16)               0         \n",
            " (GlobalAveragePooling1D)                                        \n",
            "                                                                 \n",
            " dense (Dense)               (None, 24)                408       \n",
            "                                                                 \n",
            " dense_1 (Dense)             (None, 1)                 25        \n",
            "                                                                 \n",
            "=================================================================\n",
            "Total params: 160,433\n",
            "Trainable params: 160,433\n",
            "Non-trainable params: 0\n",
            "_________________________________________________________________\n"
          ]
        }
      ]
    },
    {
      "cell_type": "code",
      "source": [
        "# Compile the model\n",
        "model.compile(loss='binary_crossentropy',optimizer='adam',metrics=['accuracy'])"
      ],
      "metadata": {
        "id": "UMyxLfUZMbcA"
      },
      "execution_count": 8,
      "outputs": []
    },
    {
      "cell_type": "markdown",
      "source": [
        "Train the Model"
      ],
      "metadata": {
        "id": "-9kzm3bzMeDm"
      }
    },
    {
      "cell_type": "code",
      "source": [
        "num_epochs = 30\n",
        "\n",
        "# Train the model\n",
        "history = model.fit(training_padded, training_labels, epochs=num_epochs, validation_data=(testing_padded, testing_labels), verbose=2)"
      ],
      "metadata": {
        "colab": {
          "base_uri": "https://localhost:8080/"
        },
        "id": "mYZkL5HSMiRV",
        "outputId": "8498edb6-3272-4011-862e-f32773d5fbf3"
      },
      "execution_count": 9,
      "outputs": [
        {
          "output_type": "stream",
          "name": "stdout",
          "text": [
            "Epoch 1/30\n",
            "625/625 - 2s - loss: 0.5737 - accuracy: 0.6931 - val_loss: 0.4034 - val_accuracy: 0.8322 - 2s/epoch - 4ms/step\n",
            "Epoch 2/30\n",
            "625/625 - 1s - loss: 0.3154 - accuracy: 0.8734 - val_loss: 0.3415 - val_accuracy: 0.8559 - 1s/epoch - 2ms/step\n",
            "Epoch 3/30\n",
            "625/625 - 1s - loss: 0.2375 - accuracy: 0.9073 - val_loss: 0.3405 - val_accuracy: 0.8536 - 1s/epoch - 2ms/step\n",
            "Epoch 4/30\n",
            "625/625 - 1s - loss: 0.1903 - accuracy: 0.9281 - val_loss: 0.3631 - val_accuracy: 0.8477 - 1s/epoch - 2ms/step\n",
            "Epoch 5/30\n",
            "625/625 - 2s - loss: 0.1586 - accuracy: 0.9400 - val_loss: 0.3834 - val_accuracy: 0.8512 - 2s/epoch - 2ms/step\n",
            "Epoch 6/30\n",
            "625/625 - 2s - loss: 0.1346 - accuracy: 0.9513 - val_loss: 0.4162 - val_accuracy: 0.8481 - 2s/epoch - 4ms/step\n",
            "Epoch 7/30\n",
            "625/625 - 1s - loss: 0.1135 - accuracy: 0.9617 - val_loss: 0.4520 - val_accuracy: 0.8441 - 1s/epoch - 2ms/step\n",
            "Epoch 8/30\n",
            "625/625 - 1s - loss: 0.0977 - accuracy: 0.9679 - val_loss: 0.4952 - val_accuracy: 0.8389 - 1s/epoch - 2ms/step\n",
            "Epoch 9/30\n",
            "625/625 - 1s - loss: 0.0851 - accuracy: 0.9718 - val_loss: 0.5380 - val_accuracy: 0.8378 - 1s/epoch - 2ms/step\n",
            "Epoch 10/30\n",
            "625/625 - 2s - loss: 0.0734 - accuracy: 0.9765 - val_loss: 0.5865 - val_accuracy: 0.8354 - 2s/epoch - 2ms/step\n",
            "Epoch 11/30\n",
            "625/625 - 1s - loss: 0.0640 - accuracy: 0.9797 - val_loss: 0.6405 - val_accuracy: 0.8338 - 1s/epoch - 2ms/step\n",
            "Epoch 12/30\n",
            "625/625 - 1s - loss: 0.0561 - accuracy: 0.9826 - val_loss: 0.6923 - val_accuracy: 0.8277 - 1s/epoch - 2ms/step\n",
            "Epoch 13/30\n",
            "625/625 - 2s - loss: 0.0504 - accuracy: 0.9842 - val_loss: 0.7355 - val_accuracy: 0.8235 - 2s/epoch - 3ms/step\n",
            "Epoch 14/30\n",
            "625/625 - 2s - loss: 0.0419 - accuracy: 0.9887 - val_loss: 0.7956 - val_accuracy: 0.8222 - 2s/epoch - 3ms/step\n",
            "Epoch 15/30\n",
            "625/625 - 2s - loss: 0.0385 - accuracy: 0.9888 - val_loss: 0.8520 - val_accuracy: 0.8213 - 2s/epoch - 3ms/step\n",
            "Epoch 16/30\n",
            "625/625 - 1s - loss: 0.0337 - accuracy: 0.9905 - val_loss: 0.9193 - val_accuracy: 0.8195 - 1s/epoch - 2ms/step\n",
            "Epoch 17/30\n",
            "625/625 - 1s - loss: 0.0297 - accuracy: 0.9908 - val_loss: 0.9698 - val_accuracy: 0.8150 - 1s/epoch - 2ms/step\n",
            "Epoch 18/30\n",
            "625/625 - 1s - loss: 0.0264 - accuracy: 0.9926 - val_loss: 1.0265 - val_accuracy: 0.8134 - 1s/epoch - 2ms/step\n",
            "Epoch 19/30\n",
            "625/625 - 1s - loss: 0.0227 - accuracy: 0.9937 - val_loss: 1.0931 - val_accuracy: 0.8106 - 1s/epoch - 2ms/step\n",
            "Epoch 20/30\n",
            "625/625 - 1s - loss: 0.0204 - accuracy: 0.9945 - val_loss: 1.1687 - val_accuracy: 0.8100 - 1s/epoch - 2ms/step\n",
            "Epoch 21/30\n",
            "625/625 - 2s - loss: 0.0183 - accuracy: 0.9948 - val_loss: 1.2250 - val_accuracy: 0.8065 - 2s/epoch - 3ms/step\n",
            "Epoch 22/30\n",
            "625/625 - 2s - loss: 0.0161 - accuracy: 0.9955 - val_loss: 1.3096 - val_accuracy: 0.8065 - 2s/epoch - 3ms/step\n",
            "Epoch 23/30\n",
            "625/625 - 1s - loss: 0.0148 - accuracy: 0.9959 - val_loss: 1.3628 - val_accuracy: 0.8070 - 1s/epoch - 2ms/step\n",
            "Epoch 24/30\n",
            "625/625 - 1s - loss: 0.0144 - accuracy: 0.9959 - val_loss: 1.4221 - val_accuracy: 0.8076 - 1s/epoch - 2ms/step\n",
            "Epoch 25/30\n",
            "625/625 - 1s - loss: 0.0141 - accuracy: 0.9961 - val_loss: 1.4769 - val_accuracy: 0.8047 - 1s/epoch - 2ms/step\n",
            "Epoch 26/30\n",
            "625/625 - 1s - loss: 0.0123 - accuracy: 0.9966 - val_loss: 1.5470 - val_accuracy: 0.8012 - 1s/epoch - 2ms/step\n",
            "Epoch 27/30\n",
            "625/625 - 1s - loss: 0.0098 - accuracy: 0.9970 - val_loss: 1.6098 - val_accuracy: 0.8049 - 1s/epoch - 2ms/step\n",
            "Epoch 28/30\n",
            "625/625 - 1s - loss: 0.0090 - accuracy: 0.9973 - val_loss: 1.6825 - val_accuracy: 0.8038 - 1s/epoch - 2ms/step\n",
            "Epoch 29/30\n",
            "625/625 - 2s - loss: 0.0077 - accuracy: 0.9981 - val_loss: 1.7480 - val_accuracy: 0.8007 - 2s/epoch - 3ms/step\n",
            "Epoch 30/30\n",
            "625/625 - 2s - loss: 0.0070 - accuracy: 0.9980 - val_loss: 1.8147 - val_accuracy: 0.8007 - 2s/epoch - 2ms/step\n"
          ]
        }
      ]
    },
    {
      "cell_type": "markdown",
      "source": [
        "Visualize the Results"
      ],
      "metadata": {
        "id": "bMrzIMF5Mthw"
      }
    },
    {
      "cell_type": "code",
      "source": [
        "import matplotlib.pyplot as plt\n",
        "\n",
        "# Plot utility\n",
        "def plot_graphs(history, string):\n",
        "  plt.plot(history.history[string])\n",
        "  plt.plot(history.history['val_'+string])\n",
        "  plt.xlabel(\"Epochs\")\n",
        "  plt.ylabel(string)\n",
        "  plt.legend([string, 'val_'+string])\n",
        "  plt.show()\n",
        "\n",
        "# Plot the accuracy and loss\n",
        "plot_graphs(history, \"accuracy\")\n",
        "plot_graphs(history, \"loss\")"
      ],
      "metadata": {
        "colab": {
          "base_uri": "https://localhost:8080/",
          "height": 881
        },
        "id": "7bidBoenMifJ",
        "outputId": "455046b5-f71f-4539-b0fc-79ebfa075be2"
      },
      "execution_count": 10,
      "outputs": [
        {
          "output_type": "display_data",
          "data": {
            "text/plain": [
              "<Figure size 640x480 with 1 Axes>"
            ],
            "image/png": "[encoded data removed]"
          },
          "metadata": {}
        },
        {
          "output_type": "display_data",
          "data": {
            "text/plain": [
              "<Figure size 640x480 with 1 Axes>"
            ],
            "image/png": "[encoded data removed]"
          },
          "metadata": {}
        }
      ]
    },
    {
      "cell_type": "markdown",
      "source": [
        "Visualize Word Embeddings"
      ],
      "metadata": {
        "id": "4m5-UVUfM_L_"
      }
    },
    {
      "cell_type": "code",
      "source": [
        "# Get the index-word dictionary\n",
        "reverse_word_index = tokenizer.index_word\n",
        "\n",
        "# Get the embedding layer from the model (i.e. first layer)\n",
        "embedding_layer = model.layers[0]\n",
        "\n",
        "# Get the weights of the embedding layer\n",
        "embedding_weights = embedding_layer.get_weights()[0]\n",
        "\n",
        "# Print the shape. Expected is (vocab_size, embedding_dim)\n",
        "print(embedding_weights.shape)\n"
      ],
      "metadata": {
        "colab": {
          "base_uri": "https://localhost:8080/"
        },
        "id": "fXlOAMoyNDfS",
        "outputId": "3b29e38e-c006-4ec4-9c34-fda1ce4e0c54"
      },
      "execution_count": 11,
      "outputs": [
        {
          "output_type": "stream",
          "name": "stdout",
          "text": [
            "(10000, 16)\n"
          ]
        }
      ]
    },
    {
      "cell_type": "code",
      "source": [
        "import io\n",
        "\n",
        "# Open writeable files\n",
        "out_v = io.open('vecs.tsv', 'w', encoding='utf-8')\n",
        "out_m = io.open('meta.tsv', 'w', encoding='utf-8')\n",
        "\n",
        "# Initialize the loop. Start counting at `1` because `0` is just for the padding\n",
        "for word_num in range(1, vocab_size):\n",
        "\n",
        "  # Get the word associated at the current index\n",
        "  word_name = reverse_word_index[word_num]\n",
        "\n",
        "  # Get the embedding weights associated with the current index\n",
        "  word_embedding = embedding_weights[word_num]\n",
        "\n",
        "  # Write the word name\n",
        "  out_m.write(word_name + \"\\n\")\n",
        "\n",
        "  # Write the word embedding\n",
        "  out_v.write('\\t'.join([str(x) for x in word_embedding]) + \"\\n\")\n",
        "\n",
        "# Close the files\n",
        "out_v.close()\n",
        "out_m.close()"
      ],
      "metadata": {
        "id": "EtPMFLsXND0a"
      },
      "execution_count": 12,
      "outputs": []
    },
    {
      "cell_type": "code",
      "source": [
        "# Import files utilities in Colab\n",
        "try:\n",
        "  from google.colab import files\n",
        "except ImportError:\n",
        "  pass\n",
        "\n",
        "# Download the files\n",
        "else:\n",
        "  files.download('vecs.tsv')\n",
        "  files.download('meta.tsv')"
      ],
      "metadata": {
        "colab": {
          "base_uri": "https://localhost:8080/",
          "height": 17
        },
        "id": "FKB-bnepNNsb",
        "outputId": "83c61b82-d159-424c-d629-b5d21f91e840"
      },
      "execution_count": 13,
      "outputs": [
        {
          "output_type": "display_data",
          "data": {
            "text/plain": [
              "<IPython.core.display.Javascript object>"
            ],
            "application/javascript": [
              "\n",
              "    async function download(id, filename, size) {\n",
              "      if (!google.colab.kernel.accessAllowed) {\n",
              "        return;\n",
              "      }\n",
              "      const div = document.createElement('div');\n",
              "      const label = document.createElement('label');\n",
              "      label.textContent = `Downloading \"${filename}\": `;\n",
              "      div.appendChild(label);\n",
              "      const progress = document.createElement('progress');\n",
              "      progress.max = size;\n",
              "      div.appendChild(progress);\n",
              "      document.body.appendChild(div);\n",
              "\n",
              "      const buffers = [];\n",
              "      let downloaded = 0;\n",
              "\n",
              "      const channel = await google.colab.kernel.comms.open(id);\n",
              "      // Send a message to notify the kernel that we're ready.\n",
              "      channel.send({})\n",
              "\n",
              "      for await (const message of channel.messages) {\n",
              "        // Send a message to notify the kernel that we're ready.\n",
              "        channel.send({})\n",
              "        if (message.buffers) {\n",
              "          for (const buffer of message.buffers) {\n",
              "            buffers.push(buffer);\n",
              "            downloaded += buffer.byteLength;\n",
              "            progress.value = downloaded;\n",
              "          }\n",
              "        }\n",
              "      }\n",
              "      const blob = new Blob(buffers, {type: 'application/binary'});\n",
              "      const a = document.createElement('a');\n",
              "      a.href = window.URL.createObjectURL(blob);\n",
              "      a.download = filename;\n",
              "      div.appendChild(a);\n",
              "      a.click();\n",
              "      div.remove();\n",
              "    }\n",
              "  "
            ]
          },
          "metadata": {}
        },
        {
          "output_type": "display_data",
          "data": {
            "text/plain": [
              "<IPython.core.display.Javascript object>"
            ],
            "application/javascript": [
              "download(\"download_ef7d6a55-40ca-442b-abf7-37a8de881bc5\", \"vecs.tsv\", 1841505)"
            ]
          },
          "metadata": {}
        },
        {
          "output_type": "display_data",
          "data": {
            "text/plain": [
              "<IPython.core.display.Javascript object>"
            ],
            "application/javascript": [
              "\n",
              "    async function download(id, filename, size) {\n",
              "      if (!google.colab.kernel.accessAllowed) {\n",
              "        return;\n",
              "      }\n",
              "      const div = document.createElement('div');\n",
              "      const label = document.createElement('label');\n",
              "      label.textContent = `Downloading \"${filename}\": `;\n",
              "      div.appendChild(label);\n",
              "      const progress = document.createElement('progress');\n",
              "      progress.max = size;\n",
              "      div.appendChild(progress);\n",
              "      document.body.appendChild(div);\n",
              "\n",
              "      const buffers = [];\n",
              "      let downloaded = 0;\n",
              "\n",
              "      const channel = await google.colab.kernel.comms.open(id);\n",
              "      // Send a message to notify the kernel that we're ready.\n",
              "      channel.send({})\n",
              "\n",
              "      for await (const message of channel.messages) {\n",
              "        // Send a message to notify the kernel that we're ready.\n",
              "        channel.send({})\n",
              "        if (message.buffers) {\n",
              "          for (const buffer of message.buffers) {\n",
              "            buffers.push(buffer);\n",
              "            downloaded += buffer.byteLength;\n",
              "            progress.value = downloaded;\n",
              "          }\n",
              "        }\n",
              "      }\n",
              "      const blob = new Blob(buffers, {type: 'application/binary'});\n",
              "      const a = document.createElement('a');\n",
              "      a.href = window.URL.createObjectURL(blob);\n",
              "      a.download = filename;\n",
              "      div.appendChild(a);\n",
              "      a.click();\n",
              "      div.remove();\n",
              "    }\n",
              "  "
            ]
          },
          "metadata": {}
        },
        {
          "output_type": "display_data",
          "data": {
            "text/plain": [
              "<IPython.core.display.Javascript object>"
            ],
            "application/javascript": [
              "download(\"download_50a1fab2-7a1c-40d7-8928-c7b396e66275\", \"meta.tsv\", 75974)"
            ]
          },
          "metadata": {}
        }
      ]
    }
  ]
}