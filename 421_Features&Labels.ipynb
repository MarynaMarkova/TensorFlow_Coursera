{
  "nbformat": 4,
  "nbformat_minor": 0,
  "metadata": {
    "colab": {
      "provenance": [],
      "authorship_tag": "ABX9TyM7dEPFwVpXUaVspbm9qRcz",
      "include_colab_link": true
    },
    "kernelspec": {
      "name": "python3",
      "display_name": "Python 3"
    },
    "language_info": {
      "name": "python"
    }
  },
  "cells": [
    {
      "cell_type": "markdown",
      "metadata": {
        "id": "view-in-github",
        "colab_type": "text"
      },
      "source": [
        "<a href=\"https://colab.research.google.com/github/MarynaMarkova/TensorFlow_Coursera/blob/main/421_Features%26Labels.ipynb\" target=\"_parent\"><img src=\"https://colab.research.google.com/assets/colab-badge.svg\" alt=\"Open In Colab\"/></a>"
      ]
    },
    {
      "cell_type": "markdown",
      "source": [
        "#  Preparing Time Series Features and Labels"
      ],
      "metadata": {
        "id": "LYZSreerCcYB"
      }
    },
    {
      "cell_type": "markdown",
      "source": [
        "# Imports"
      ],
      "metadata": {
        "id": "hUJ42qG5Ckgw"
      }
    },
    {
      "cell_type": "code",
      "source": [
        "import tensorflow as tf"
      ],
      "metadata": {
        "id": "VdmOP_pcCm1P"
      },
      "execution_count": 1,
      "outputs": []
    },
    {
      "cell_type": "markdown",
      "source": [
        "# Create a Simple Dataset"
      ],
      "metadata": {
        "id": "tmdDYPcICrCI"
      }
    },
    {
      "cell_type": "code",
      "source": [
        "# Generate a tf dataset with 10 elements (i.e. numbers 0 to 9)\n",
        "dataset = tf.data.Dataset.range(10)\n",
        "\n",
        "# Preview the result\n",
        "for val in dataset:\n",
        "   print(val.numpy())"
      ],
      "metadata": {
        "colab": {
          "base_uri": "https://localhost:8080/"
        },
        "id": "OVFeAlVNCt9Z",
        "outputId": "ae63e0d8-5337-4d92-82f0-8f430e9d130c"
      },
      "execution_count": 2,
      "outputs": [
        {
          "output_type": "stream",
          "name": "stdout",
          "text": [
            "0\n",
            "1\n",
            "2\n",
            "3\n",
            "4\n",
            "5\n",
            "6\n",
            "7\n",
            "8\n",
            "9\n"
          ]
        }
      ]
    },
    {
      "cell_type": "markdown",
      "source": [
        "# Windowing the data"
      ],
      "metadata": {
        "id": "JmiA49IqCzAI"
      }
    },
    {
      "cell_type": "code",
      "source": [
        "# Generate a tf dataset with 10 elements (i.e. numbers 0 to 9)\n",
        "dataset = tf.data.Dataset.range(10)\n",
        "\n",
        "# Window the data\n",
        "dataset = dataset.window(size=5, shift=1)\n",
        "\n",
        "# Print the result\n",
        "for window_dataset in dataset:\n",
        "  print(window_dataset)"
      ],
      "metadata": {
        "colab": {
          "base_uri": "https://localhost:8080/"
        },
        "id": "MCRcp40RC1DP",
        "outputId": "90a0ff1a-cb7c-4474-8fcb-8fe546457cf2"
      },
      "execution_count": 3,
      "outputs": [
        {
          "output_type": "stream",
          "name": "stdout",
          "text": [
            "<_VariantDataset element_spec=TensorSpec(shape=(), dtype=tf.int64, name=None)>\n",
            "<_VariantDataset element_spec=TensorSpec(shape=(), dtype=tf.int64, name=None)>\n",
            "<_VariantDataset element_spec=TensorSpec(shape=(), dtype=tf.int64, name=None)>\n",
            "<_VariantDataset element_spec=TensorSpec(shape=(), dtype=tf.int64, name=None)>\n",
            "<_VariantDataset element_spec=TensorSpec(shape=(), dtype=tf.int64, name=None)>\n",
            "<_VariantDataset element_spec=TensorSpec(shape=(), dtype=tf.int64, name=None)>\n",
            "<_VariantDataset element_spec=TensorSpec(shape=(), dtype=tf.int64, name=None)>\n",
            "<_VariantDataset element_spec=TensorSpec(shape=(), dtype=tf.int64, name=None)>\n",
            "<_VariantDataset element_spec=TensorSpec(shape=(), dtype=tf.int64, name=None)>\n",
            "<_VariantDataset element_spec=TensorSpec(shape=(), dtype=tf.int64, name=None)>\n"
          ]
        }
      ]
    },
    {
      "cell_type": "code",
      "source": [
        "# Print the result\n",
        "for window_dataset in dataset:\n",
        "  print([item.numpy() for item in window_dataset])"
      ],
      "metadata": {
        "colab": {
          "base_uri": "https://localhost:8080/"
        },
        "id": "xzbgiILOC_V3",
        "outputId": "0ea2fb2b-5cb8-4112-b5cc-faec86a4f65d"
      },
      "execution_count": 4,
      "outputs": [
        {
          "output_type": "stream",
          "name": "stdout",
          "text": [
            "[0, 1, 2, 3, 4]\n",
            "[1, 2, 3, 4, 5]\n",
            "[2, 3, 4, 5, 6]\n",
            "[3, 4, 5, 6, 7]\n",
            "[4, 5, 6, 7, 8]\n",
            "[5, 6, 7, 8, 9]\n",
            "[6, 7, 8, 9]\n",
            "[7, 8, 9]\n",
            "[8, 9]\n",
            "[9]\n"
          ]
        }
      ]
    },
    {
      "cell_type": "code",
      "source": [
        "# Generate a tf dataset with 10 elements (i.e. numbers 0 to 9)\n",
        "dataset = tf.data.Dataset.range(10)\n",
        "\n",
        "# Window the data but only take those with the specified size\n",
        "dataset = dataset.window(size=5, shift=1, drop_remainder=True)\n",
        "\n",
        "# Print the result\n",
        "for window_dataset in dataset:\n",
        "  print([item.numpy() for item in window_dataset])"
      ],
      "metadata": {
        "colab": {
          "base_uri": "https://localhost:8080/"
        },
        "id": "xib6HoP7DMZY",
        "outputId": "5950d29e-0f98-4ba0-a385-d7374c17024c"
      },
      "execution_count": 5,
      "outputs": [
        {
          "output_type": "stream",
          "name": "stdout",
          "text": [
            "[0, 1, 2, 3, 4]\n",
            "[1, 2, 3, 4, 5]\n",
            "[2, 3, 4, 5, 6]\n",
            "[3, 4, 5, 6, 7]\n",
            "[4, 5, 6, 7, 8]\n",
            "[5, 6, 7, 8, 9]\n"
          ]
        }
      ]
    },
    {
      "cell_type": "markdown",
      "source": [
        "# Flatten the Windows"
      ],
      "metadata": {
        "id": "XqEzSjxLDOIf"
      }
    },
    {
      "cell_type": "code",
      "source": [
        "# Generate a tf dataset with 10 elements (i.e. numbers 0 to 9)\n",
        "dataset = tf.data.Dataset.range(10)\n",
        "\n",
        "# Window the data but only take those with the specified size\n",
        "dataset = dataset.window(5, shift=1, drop_remainder=True)\n",
        "\n",
        "# Flatten the windows by putting its elements in a single batch\n",
        "dataset = dataset.flat_map(lambda window: window.batch(5))\n",
        "\n",
        "# Print the results\n",
        "for window in dataset:\n",
        "  print(window.numpy())"
      ],
      "metadata": {
        "colab": {
          "base_uri": "https://localhost:8080/"
        },
        "id": "Hu_ddyDTDQKW",
        "outputId": "7469e5ed-31ad-4952-be91-43f5afbfb456"
      },
      "execution_count": 6,
      "outputs": [
        {
          "output_type": "stream",
          "name": "stdout",
          "text": [
            "[0 1 2 3 4]\n",
            "[1 2 3 4 5]\n",
            "[2 3 4 5 6]\n",
            "[3 4 5 6 7]\n",
            "[4 5 6 7 8]\n",
            "[5 6 7 8 9]\n"
          ]
        }
      ]
    },
    {
      "cell_type": "markdown",
      "source": [
        "#Group into features and labels"
      ],
      "metadata": {
        "id": "wtVeX-kiDbev"
      }
    },
    {
      "cell_type": "code",
      "source": [
        "# Generate a tf dataset with 10 elements (i.e. numbers 0 to 9)\n",
        "dataset = tf.data.Dataset.range(10)\n",
        "\n",
        "# Window the data but only take those with the specified size\n",
        "dataset = dataset.window(5, shift=1, drop_remainder=True)\n",
        "\n",
        "# Flatten the windows by putting its elements in a single batch\n",
        "dataset = dataset.flat_map(lambda window: window.batch(5))\n",
        "\n",
        "# Create tuples with features (first four elements of the window) and labels (last element)\n",
        "dataset = dataset.map(lambda window: (window[:-1], window[-1]))\n",
        "\n",
        "# Print the results\n",
        "for x,y in dataset:\n",
        "  print(\"x = \", x.numpy())\n",
        "  print(\"y = \", y.numpy())\n",
        "  print()"
      ],
      "metadata": {
        "colab": {
          "base_uri": "https://localhost:8080/"
        },
        "id": "JeznG08SDeFA",
        "outputId": "4775648b-b8eb-42c9-adeb-fe534915523d"
      },
      "execution_count": 7,
      "outputs": [
        {
          "output_type": "stream",
          "name": "stdout",
          "text": [
            "x =  [0 1 2 3]\n",
            "y =  4\n",
            "\n",
            "x =  [1 2 3 4]\n",
            "y =  5\n",
            "\n",
            "x =  [2 3 4 5]\n",
            "y =  6\n",
            "\n",
            "x =  [3 4 5 6]\n",
            "y =  7\n",
            "\n",
            "x =  [4 5 6 7]\n",
            "y =  8\n",
            "\n",
            "x =  [5 6 7 8]\n",
            "y =  9\n",
            "\n"
          ]
        }
      ]
    },
    {
      "cell_type": "markdown",
      "source": [
        "# Shuffle the data"
      ],
      "metadata": {
        "id": "CNYNS7rKDkHg"
      }
    },
    {
      "cell_type": "code",
      "source": [
        "# Generate a tf dataset with 10 elements (i.e. numbers 0 to 9)\n",
        "dataset = tf.data.Dataset.range(10)\n",
        "\n",
        "# Window the data but only take those with the specified size\n",
        "dataset = dataset.window(5, shift=1, drop_remainder=True)\n",
        "\n",
        "# Flatten the windows by putting its elements in a single batch\n",
        "dataset = dataset.flat_map(lambda window: window.batch(5))\n",
        "\n",
        "# Create tuples with features (first four elements of the window) and labels (last element)\n",
        "dataset = dataset.map(lambda window: (window[:-1], window[-1]))\n",
        "\n",
        "# Shuffle the windows\n",
        "dataset = dataset.shuffle(buffer_size=10)\n",
        "\n",
        "# Print the results\n",
        "for x,y in dataset:\n",
        "  print(\"x = \", x.numpy())\n",
        "  print(\"y = \", y.numpy())\n",
        "  print()\n"
      ],
      "metadata": {
        "colab": {
          "base_uri": "https://localhost:8080/"
        },
        "id": "1dPcUNYgDmsG",
        "outputId": "7232fce0-b222-405c-bb50-7e19c60829fc"
      },
      "execution_count": 8,
      "outputs": [
        {
          "output_type": "stream",
          "name": "stdout",
          "text": [
            "x =  [1 2 3 4]\n",
            "y =  5\n",
            "\n",
            "x =  [5 6 7 8]\n",
            "y =  9\n",
            "\n",
            "x =  [4 5 6 7]\n",
            "y =  8\n",
            "\n",
            "x =  [0 1 2 3]\n",
            "y =  4\n",
            "\n",
            "x =  [2 3 4 5]\n",
            "y =  6\n",
            "\n",
            "x =  [3 4 5 6]\n",
            "y =  7\n",
            "\n"
          ]
        }
      ]
    },
    {
      "cell_type": "markdown",
      "source": [
        "# Create batches for training"
      ],
      "metadata": {
        "id": "nslcdaj_Dw6_"
      }
    },
    {
      "cell_type": "code",
      "source": [
        "# Generate a tf dataset with 10 elements (i.e. numbers 0 to 9)\n",
        "dataset = tf.data.Dataset.range(10)\n",
        "\n",
        "# Window the data but only take those with the specified size\n",
        "dataset = dataset.window(5, shift=1, drop_remainder=True)\n",
        "\n",
        "# Flatten the windows by putting its elements in a single batch\n",
        "dataset = dataset.flat_map(lambda window: window.batch(5))\n",
        "\n",
        "# Create tuples with features (first four elements of the window) and labels (last element)\n",
        "dataset = dataset.map(lambda window: (window[:-1], window[-1]))\n",
        "\n",
        "# Shuffle the windows\n",
        "dataset = dataset.shuffle(buffer_size=10)\n",
        "\n",
        "# Create batches of windows\n",
        "dataset = dataset.batch(2).prefetch(1)\n",
        "\n",
        "# Print the results\n",
        "for x,y in dataset:\n",
        "  print(\"x = \", x.numpy())\n",
        "  print(\"y = \", y.numpy())\n",
        "  print()\n"
      ],
      "metadata": {
        "colab": {
          "base_uri": "https://localhost:8080/"
        },
        "id": "ZxeQYkuOD38m",
        "outputId": "26140a4e-0277-4c99-d514-2ba5f5d79cca"
      },
      "execution_count": 9,
      "outputs": [
        {
          "output_type": "stream",
          "name": "stdout",
          "text": [
            "x =  [[1 2 3 4]\n",
            " [3 4 5 6]]\n",
            "y =  [5 7]\n",
            "\n",
            "x =  [[0 1 2 3]\n",
            " [4 5 6 7]]\n",
            "y =  [4 8]\n",
            "\n",
            "x =  [[5 6 7 8]\n",
            " [2 3 4 5]]\n",
            "y =  [9 6]\n",
            "\n"
          ]
        }
      ]
    }
  ]
}