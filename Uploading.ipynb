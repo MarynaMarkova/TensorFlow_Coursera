{
  "nbformat": 4,
  "nbformat_minor": 0,
  "metadata": {
    "colab": {
      "provenance": [],
      "authorship_tag": "ABX9TyNeFz1DX4lABBZ7FPio5Dpj",
      "include_colab_link": true
    },
    "kernelspec": {
      "name": "python3",
      "display_name": "Python 3"
    },
    "language_info": {
      "name": "python"
    }
  },
  "cells": [
    {
      "cell_type": "markdown",
      "metadata": {
        "id": "view-in-github",
        "colab_type": "text"
      },
      "source": [
        "<a href=\"https://colab.research.google.com/github/MarynaMarkova/TensorFlow_Coursera/blob/main/Uploading.ipynb\" target=\"_parent\"><img src=\"https://colab.research.google.com/assets/colab-badge.svg\" alt=\"Open In Colab\"/></a>"
      ]
    },
    {
      "cell_type": "code",
      "execution_count": null,
      "metadata": {
        "id": "FvNgr2T1p-K4"
      },
      "outputs": [],
      "source": []
    },
    {
      "cell_type": "markdown",
      "source": [
        "If you're using Safari and the cell above throws an error, you will need to upload the images(s) manually in their workspace.\n",
        "\n",
        "Instructions on how to upload image(s) manually in a Colab:\n",
        "\n",
        "Select the folder icon on the left menu bar.\n",
        "\n",
        "\n",
        "Click on the folder with an arrow pointing upwards named ..\n",
        "\n",
        "\n",
        "Click on the folder named tmp.\n",
        "\n",
        "\n",
        "Inside of the tmp folder, create a new folder called images. You'll see the New folder option by clicking the 3 vertical dots menu button next to the tmp folder.\n",
        "\n",
        "\n",
        "Inside of the new images folder, upload an image(s) of your choice, preferably of either a horse or a human. Drag and drop the images(s) on top of the images folder.\n",
        "\n",
        "\n",
        "Uncomment and run the code block below."
      ],
      "metadata": {
        "id": "X4y-oyl-qCsM"
      }
    },
    {
      "cell_type": "code",
      "source": [
        "# # CODE BLOCK FOR OLDER VERSIONS OF SAFARI\n",
        "\n",
        "# import numpy as np\n",
        "# from tensorflow.keras.utils import load_img, img_to_array\n",
        "# import os\n",
        "\n",
        "# images = os.listdir(\"/tmp/images\")\n",
        "\n",
        "# print(images)\n",
        "\n",
        "# for i in images:\n",
        "#  print()\n",
        "#  # predicting images\n",
        "#  path = '/tmp/images/' + i\n",
        "#  img = load_img(path, target_size=(300, 300))\n",
        "#  x = img_to_array(img)\n",
        "#  x /= 255\n",
        "#  x = np.expand_dims(x, axis=0)\n",
        "\n",
        "#  images = np.vstack([x])\n",
        "#  classes = model.predict(images, batch_size=10)\n",
        "#  print(classes[0])\n",
        "#  if classes[0]>0.5:\n",
        "#    print(i + \" is a human\")\n",
        "#  else:\n",
        "#    print(i + \" is a horse\")"
      ],
      "metadata": {
        "id": "f0Ofr9FrqHLg"
      },
      "execution_count": null,
      "outputs": []
    }
  ]
}